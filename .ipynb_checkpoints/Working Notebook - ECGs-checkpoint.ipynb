{
 "cells": [
  {
   "cell_type": "code",
   "execution_count": 103,
   "metadata": {},
   "outputs": [],
   "source": [
    "# import all packages needed\n",
    "import numpy as np\n",
    "import pandas as pd\n",
    "from matplotlib import pyplot\n",
    "from base64 import b64decode as decode\n",
    "import torch \n",
    "\n",
    "from sklearn.model_selection import train_test_split"
   ]
  },
  {
   "cell_type": "markdown",
   "metadata": {},
   "source": [
    "## Data Processing / Cleaning"
   ]
  },
  {
   "cell_type": "code",
   "execution_count": 52,
   "metadata": {},
   "outputs": [
    {
     "data": {
      "text/html": [
       "<div>\n",
       "<style scoped>\n",
       "    .dataframe tbody tr th:only-of-type {\n",
       "        vertical-align: middle;\n",
       "    }\n",
       "\n",
       "    .dataframe tbody tr th {\n",
       "        vertical-align: top;\n",
       "    }\n",
       "\n",
       "    .dataframe thead th {\n",
       "        text-align: right;\n",
       "    }\n",
       "</style>\n",
       "<table border=\"1\" class=\"dataframe\">\n",
       "  <thead>\n",
       "    <tr style=\"text-align: right;\">\n",
       "      <th></th>\n",
       "      <th>exam_id</th>\n",
       "      <th>lead_id</th>\n",
       "      <th>decoded_waveform</th>\n",
       "      <th>waveform_type</th>\n",
       "    </tr>\n",
       "  </thead>\n",
       "  <tbody>\n",
       "    <tr>\n",
       "      <th>10</th>\n",
       "      <td>549871</td>\n",
       "      <td>I</td>\n",
       "      <td>[-8, -8, -8, -8, -8, -8, -8, -7, -6, -5, -4, -...</td>\n",
       "      <td>Rhythm</td>\n",
       "    </tr>\n",
       "    <tr>\n",
       "      <th>15</th>\n",
       "      <td>549871</td>\n",
       "      <td>II</td>\n",
       "      <td>[-10, -10, -10, -13, -16, -16, -16, -15, -14, ...</td>\n",
       "      <td>Rhythm</td>\n",
       "    </tr>\n",
       "    <tr>\n",
       "      <th>8</th>\n",
       "      <td>549871</td>\n",
       "      <td>V1</td>\n",
       "      <td>[-2, -2, -2, -2, -2, -1, 0, 0, 0, 1, 2, 2, 2, ...</td>\n",
       "      <td>Rhythm</td>\n",
       "    </tr>\n",
       "    <tr>\n",
       "      <th>1</th>\n",
       "      <td>549871</td>\n",
       "      <td>V2</td>\n",
       "      <td>[-10, -11, -12, -12, -12, -12, -12, -12, -12, ...</td>\n",
       "      <td>Rhythm</td>\n",
       "    </tr>\n",
       "    <tr>\n",
       "      <th>18</th>\n",
       "      <td>549871</td>\n",
       "      <td>V3</td>\n",
       "      <td>[-18, -18, -18, -19, -20, -20, -20, -19, -18, ...</td>\n",
       "      <td>Rhythm</td>\n",
       "    </tr>\n",
       "    <tr>\n",
       "      <th>...</th>\n",
       "      <td>...</td>\n",
       "      <td>...</td>\n",
       "      <td>...</td>\n",
       "      <td>...</td>\n",
       "    </tr>\n",
       "    <tr>\n",
       "      <th>150</th>\n",
       "      <td>554080</td>\n",
       "      <td>V4</td>\n",
       "      <td>[40, 41, 42, 43, 44, 44, 45, 45, 46, 46, 46, 4...</td>\n",
       "      <td>Rhythm</td>\n",
       "    </tr>\n",
       "    <tr>\n",
       "      <th>152</th>\n",
       "      <td>554080</td>\n",
       "      <td>V5</td>\n",
       "      <td>[22, 23, 25, 25, 27, 27, 27, 27, 27, 27, 27, 2...</td>\n",
       "      <td>Rhythm</td>\n",
       "    </tr>\n",
       "    <tr>\n",
       "      <th>155</th>\n",
       "      <td>554080</td>\n",
       "      <td>V5</td>\n",
       "      <td>[-6, -6, -6, -6, -5, -4, -3, -2, -4, -4, -4, -...</td>\n",
       "      <td>Rhythm</td>\n",
       "    </tr>\n",
       "    <tr>\n",
       "      <th>140</th>\n",
       "      <td>554080</td>\n",
       "      <td>V6</td>\n",
       "      <td>[-18, -18, -18, -18, -15, -14, -13, -12, -12, ...</td>\n",
       "      <td>Rhythm</td>\n",
       "    </tr>\n",
       "    <tr>\n",
       "      <th>141</th>\n",
       "      <td>554080</td>\n",
       "      <td>V6</td>\n",
       "      <td>[10, 10, 10, 11, 12, 12, 12, 12, 12, 13, 14, 1...</td>\n",
       "      <td>Rhythm</td>\n",
       "    </tr>\n",
       "  </tbody>\n",
       "</table>\n",
       "<p>160 rows × 4 columns</p>\n",
       "</div>"
      ],
      "text/plain": [
       "     exam_id lead_id                                   decoded_waveform  \\\n",
       "10    549871       I  [-8, -8, -8, -8, -8, -8, -8, -7, -6, -5, -4, -...   \n",
       "15    549871      II  [-10, -10, -10, -13, -16, -16, -16, -15, -14, ...   \n",
       "8     549871      V1  [-2, -2, -2, -2, -2, -1, 0, 0, 0, 1, 2, 2, 2, ...   \n",
       "1     549871      V2  [-10, -11, -12, -12, -12, -12, -12, -12, -12, ...   \n",
       "18    549871      V3  [-18, -18, -18, -19, -20, -20, -20, -19, -18, ...   \n",
       "..       ...     ...                                                ...   \n",
       "150   554080      V4  [40, 41, 42, 43, 44, 44, 45, 45, 46, 46, 46, 4...   \n",
       "152   554080      V5  [22, 23, 25, 25, 27, 27, 27, 27, 27, 27, 27, 2...   \n",
       "155   554080      V5  [-6, -6, -6, -6, -5, -4, -3, -2, -4, -4, -4, -...   \n",
       "140   554080      V6  [-18, -18, -18, -18, -15, -14, -13, -12, -12, ...   \n",
       "141   554080      V6  [10, 10, 10, 11, 12, 12, 12, 12, 12, 13, 14, 1...   \n",
       "\n",
       "    waveform_type  \n",
       "10         Rhythm  \n",
       "15         Rhythm  \n",
       "8          Rhythm  \n",
       "1          Rhythm  \n",
       "18         Rhythm  \n",
       "..            ...  \n",
       "150        Rhythm  \n",
       "152        Rhythm  \n",
       "155        Rhythm  \n",
       "140        Rhythm  \n",
       "141        Rhythm  \n",
       "\n",
       "[160 rows x 4 columns]"
      ]
     },
     "execution_count": 52,
     "metadata": {},
     "output_type": "execute_result"
    }
   ],
   "source": [
    "# use class base64 to decode waveform data\n",
    "def to_array(wf):\n",
    "    barr = bytearray(decode(wf))\n",
    "    vals = np.array(barr)\n",
    "    return vals.view(np.int16)\n",
    "\n",
    "# read in data\n",
    "exam_data = pd.read_csv(\"data/d_exam.csv\").drop(columns = [\"site_num\", \"patient_id_edit\"])\n",
    "waveform_data = pd.read_csv(\"data/d_waveform.csv\")\n",
    "lead_data = pd.read_csv(\"data/d_lead_data.csv\").drop(columns = [\"exam_id\"])\n",
    "diagnosis_data = pd.read_csv(\"data/d_diagnosis.csv\").drop(columns = [\"user_input\"])\n",
    "\n",
    "# add decoded data as a column to lead data\n",
    "waveforms = list(lead_data['waveform_data'])\n",
    "lead_data['decoded_waveform'] = [to_array(i) for i in waveforms]\n",
    "\n",
    "# merge waveform data and lead data\n",
    "waveform_lead = lead_data.merge(waveform_data, how = \"left\", left_on = \"waveform_id\", right_on = \"waveform_id\", suffixes = (None, None))\n",
    "\n",
    "#  sort by exam id and lead id\n",
    "waveform_lead.sort_values(by = [\"waveform_id\", \"lead_id\"], inplace = True)\n",
    "\n",
    "waveform_lead.loc[:, ['exam_id', 'lead_id', 'decoded_waveform', 'waveform_type']]"
   ]
  },
  {
   "cell_type": "code",
   "execution_count": 105,
   "metadata": {},
   "outputs": [],
   "source": [
    "# concatenate all leads into a single array\n",
    "waveform_lead_concat = waveform_lead.groupby([\"exam_id\", \"waveform_type\"])['decoded_waveform'].apply(lambda x: tuple(x)).reset_index()\n",
    "\n",
    "# remove irregular observations, concert tuple into numpy array\n",
    "waveform_lead_concat = waveform_lead_concat.drop([12,17], axis = 0)\n",
    "waveform_lead_concat['decoded_waveform'] = waveform_lead_concat['decoded_waveform'].apply(lambda x: np.swapaxes(np.vstack(x), 0, 1))\n"
   ]
  },
  {
   "cell_type": "code",
   "execution_count": 106,
   "metadata": {},
   "outputs": [
    {
     "data": {
      "text/plain": [
       "(300, 8)"
      ]
     },
     "execution_count": 106,
     "metadata": {},
     "output_type": "execute_result"
    }
   ],
   "source": [
    "# split data into training and testing datasets\n",
    "# y not included for now\n",
    "train_x, test_x, _, _ = train_test_split(waveform_lead_concat['decoded_waveform'], waveform_lead_concat['decoded_waveform'], test_size = 0.1, random_state = 2021)\n",
    "train_x[0].shape"
   ]
  },
  {
   "cell_type": "markdown",
   "metadata": {},
   "source": [
    "## Model 1 - Conv1D Encoder w/ Huggingface Decoder"
   ]
  },
  {
   "cell_type": "code",
   "execution_count": null,
   "metadata": {},
   "outputs": [],
   "source": []
  },
  {
   "cell_type": "markdown",
   "metadata": {},
   "source": [
    "## Model 2 - LSTM Encoder w/ Huggingface Decoder"
   ]
  },
  {
   "cell_type": "code",
   "execution_count": null,
   "metadata": {},
   "outputs": [],
   "source": []
  },
  {
   "cell_type": "markdown",
   "metadata": {},
   "source": [
    "## Model 3 - Basic Transformer Architecture with Multi-Head Attention"
   ]
  },
  {
   "cell_type": "code",
   "execution_count": null,
   "metadata": {},
   "outputs": [],
   "source": []
  },
  {
   "cell_type": "markdown",
   "metadata": {},
   "source": [
    "## Model 4 - FNET Transformer Architecture"
   ]
  },
  {
   "cell_type": "code",
   "execution_count": null,
   "metadata": {},
   "outputs": [],
   "source": []
  },
  {
   "cell_type": "markdown",
   "metadata": {},
   "source": [
    "## Model 5 - FNET/Basic Mixup Architecture "
   ]
  },
  {
   "cell_type": "code",
   "execution_count": null,
   "metadata": {},
   "outputs": [],
   "source": []
  }
 ],
 "metadata": {
  "kernelspec": {
   "display_name": "Python 3",
   "language": "python",
   "name": "python3"
  },
  "language_info": {
   "codemirror_mode": {
    "name": "ipython",
    "version": 3
   },
   "file_extension": ".py",
   "mimetype": "text/x-python",
   "name": "python",
   "nbconvert_exporter": "python",
   "pygments_lexer": "ipython3",
   "version": "3.7.6"
  }
 },
 "nbformat": 4,
 "nbformat_minor": 4
}
