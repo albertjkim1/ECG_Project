{
 "cells": [
  {
   "cell_type": "code",
   "execution_count": 98,
   "execution_count": 1,
   "metadata": {},
   "outputs": [],
   "source": [
    "# import all packages needed\n",
    "import numpy as np\n",
    "import pandas as pd\n",
    "from matplotlib import pyplot\n",
    "from base64 import b64decode as decode\n",
    "\n",
    "import torch\n",
    "import torch.nn as nn\n",
    "import torch.nn.functional as F\n",
    "\n",
    "from sklearn.model_selection import train_test_split"
   ]
  },
  {
   "cell_type": "markdown",
   "metadata": {},
   "source": [
    "## Data Processing / Cleaning"
   ]
  },
  {
   "cell_type": "code",
   "execution_count": 99,
   "execution_count": 9,
   "metadata": {},
   "outputs": [
    {
     "data": {
      "text/html": [
       "<div>\n",
       "<style scoped>\n",
       "    .dataframe tbody tr th:only-of-type {\n",
       "        vertical-align: middle;\n",
       "    }\n",
       "\n",
       "    .dataframe tbody tr th {\n",
       "        vertical-align: top;\n",
       "    }\n",
       "\n",
       "    .dataframe thead th {\n",
       "        text-align: right;\n",
       "    }\n",
       "</style>\n",
       "<table border=\"1\" class=\"dataframe\">\n",
       "  <thead>\n",
       "    <tr style=\"text-align: right;\">\n",
       "      <th></th>\n",
       "      <th>exam_id</th>\n",
       "      <th>lead_id</th>\n",
       "      <th>decoded_waveform</th>\n",
       "      <th>waveform_type</th>\n",
       "      <th>Full_text</th>\n",
       "      <th>Original_Diag</th>\n",
       "    </tr>\n",
       "  </thead>\n",
       "  <tbody>\n",
       "    <tr>\n",
       "      <td>0</td>\n",
       "      <td>549871</td>\n",
       "      <td>I</td>\n",
       "      <td>[-8, -8, -8, -8, -8, -8, -8, -7, -6, -5, -4, -...</td>\n",
       "      <td>Rhythm</td>\n",
       "      <td>No previous ECGs available</td>\n",
       "      <td>0</td>\n",
       "    </tr>\n",
       "    <tr>\n",
       "      <td>1</td>\n",
       "      <td>549871</td>\n",
       "      <td>I</td>\n",
       "      <td>[-8, -8, -8, -8, -8, -8, -8, -7, -6, -5, -4, -...</td>\n",
       "      <td>Rhythm</td>\n",
       "      <td>Otherwise normal ECG</td>\n",
       "      <td>0</td>\n",
       "    </tr>\n",
       "    <tr>\n",
       "      <td>2</td>\n",
       "      <td>549871</td>\n",
       "      <td>I</td>\n",
       "      <td>[-8, -8, -8, -8, -8, -8, -8, -7, -6, -5, -4, -...</td>\n",
       "      <td>Rhythm</td>\n",
       "      <td>Sinus bradycardia</td>\n",
       "      <td>0</td>\n",
       "    </tr>\n",
       "    <tr>\n",
       "      <td>3</td>\n",
       "      <td>549871</td>\n",
       "      <td>I</td>\n",
       "      <td>[-8, -8, -8, -8, -8, -8, -8, -7, -6, -5, -4, -...</td>\n",
       "      <td>Rhythm</td>\n",
       "      <td>NaN</td>\n",
       "      <td>0</td>\n",
       "    </tr>\n",
       "    <tr>\n",
       "      <td>4</td>\n",
       "      <td>549871</td>\n",
       "      <td>I</td>\n",
       "      <td>[-8, -8, -8, -8, -8, -8, -8, -7, -6, -5, -4, -...</td>\n",
       "      <td>Rhythm</td>\n",
       "      <td>Sinus bradycardia</td>\n",
       "      <td>1</td>\n",
       "    </tr>\n",
       "  </tbody>\n",
       "</table>\n",
       "</div>"
      ],
      "text/plain": [
       "   exam_id lead_id                                   decoded_waveform  \\\n",
       "0   549871       I  [-8, -8, -8, -8, -8, -8, -8, -7, -6, -5, -4, -...   \n",
       "1   549871       I  [-8, -8, -8, -8, -8, -8, -8, -7, -6, -5, -4, -...   \n",
       "2   549871       I  [-8, -8, -8, -8, -8, -8, -8, -7, -6, -5, -4, -...   \n",
       "3   549871       I  [-8, -8, -8, -8, -8, -8, -8, -7, -6, -5, -4, -...   \n",
       "4   549871       I  [-8, -8, -8, -8, -8, -8, -8, -7, -6, -5, -4, -...   \n",
       "\n",
       "  waveform_type                   Full_text  Original_Diag  \n",
       "0        Rhythm  No previous ECGs available              0  \n",
       "1        Rhythm        Otherwise normal ECG              0  \n",
       "2        Rhythm           Sinus bradycardia              0  \n",
       "3        Rhythm                         NaN              0  \n",
       "4        Rhythm           Sinus bradycardia              1  "
      ]
     },
     "execution_count": 99,
     "execution_count": 9,
     "metadata": {},
     "output_type": "execute_result"
    }
   ],
   "source": [
    "# use class base64 to decode waveform data\n",
    "def to_array(wf):\n",
    "    barr = bytearray(decode(wf))\n",
    "    vals = np.array(barr)\n",
    "    return vals.view(np.int16)\n",
    "\n",
    "# read in data\n",
    "exam_data = pd.read_csv(\"data/d_exam.csv\").drop(columns = [\"site_num\", \"patient_id_edit\"])\n",
    "waveform_data = pd.read_csv(\"data/d_waveform.csv\")\n",
    "lead_data = pd.read_csv(\"data/d_lead_data.csv\").drop(columns = [\"exam_id\"])\n",
    "diagnosis_data = pd.read_csv(\"data/d_diagnosis.csv\").drop(columns = [\"user_input\"])\n",
    "\n",
    "# add decoded data as a column to lead data\n",
    "waveforms = list(lead_data['waveform_data'])\n",
    "lead_data['decoded_waveform'] = [to_array(i) for i in waveforms]\n",
    "\n",
    "# merge waveform data and lead data\n",
    "waveform_lead = lead_data.merge(waveform_data, how = \"left\", left_on = \"waveform_id\", right_on = \"waveform_id\", suffixes = (None, None))\n",
    "\n",
    "#  sort by exam id and lead id\n",
    "waveform_lead.sort_values(by = [\"waveform_id\", \"lead_id\"], inplace = True)\n",
    "\n",
    "waveform_lead.loc[:, ['exam_id', 'lead_id', 'decoded_waveform', 'waveform_type']]\n",
    "\n",
    "\n",
    "# adding the diagnosis and labels\n",
    "waveform_and_diag = pd.merge(waveform_lead[['exam_id', 'lead_id', 'decoded_waveform', 'waveform_type']], diagnosis_data[[\"exam_id\", \"Full_text\", \"Original_Diag\"]], left_on= \"exam_id\", right_on=\"exam_id\")\n",
    "waveform_and_diag.head()"
   ]
  },
  {
   "cell_type": "code",
   "execution_count": 100,
   "execution_count": 6,
   "metadata": {},
   "outputs": [
    {
     "data": {
      "text/plain": [
       "(300, 8)"
      ]
     },
     "execution_count": 6,
     "metadata": {},
     "output_type": "execute_result"
    }
   ],
   "source": [
    "# concatenate all leads into a single array\n",
    "waveform_lead_concat = waveform_lead.groupby([\"exam_id\", \"waveform_type\"])['decoded_waveform'].apply(lambda x: tuple(x)).reset_index()\n",
    "\n",
    "# remove irregular observations, concat tuple into numpy array\n",
    "waveform_lead_concat = waveform_lead_concat.drop([12,17], axis = 0)\n",
    "waveform_lead_concat['decoded_waveform'] = waveform_lead_concat['decoded_waveform'].apply(lambda x: np.vstack(x))\n",
    "\n",
    "waveform_lead_rhythm = waveform_lead_concat[waveform_lead_concat['waveform_type'] == \"Rhythm\"]"
   ]
  },
  {
   "cell_type": "code",
   "execution_count": 101,
   "metadata": {},
   "outputs": [
    {
     "data": {
      "text/plain": [
       "tensor([[[ -12.,  -12.,  -12.,  ...,   -7.,   -8.,   -8.],\n",
       "         [  -6.,   -4.,   -2.,  ...,   -2.,   -1.,   -1.],\n",
       "         [   4.,    4.,    4.,  ...,   -7.,   -6.,   -6.],\n",
       "         ...,\n",
       "         [ -10.,  -10.,  -10.,  ...,  -11.,  -10.,  -10.],\n",
       "         [  -8.,   -8.,   -8.,  ...,  -10.,   -9.,   -9.],\n",
       "         [  -8.,   -8.,   -8.,  ...,  -11.,  -10.,  -10.]],\n",
       "\n",
       "        [[ -22.,  -20.,  -18.,  ..., -115., -136., -136.],\n",
       "         [  -4.,   -4.,   -4.,  ...,  -23.,  -40.,  -40.],\n",
       "         [   8.,    9.,   10.,  ...,  -29.,  -42.,  -42.],\n",
       "         ...,\n",
       "         [  20.,   22.,   24.,  ..., -199., -218., -218.],\n",
       "         [  18.,   20.,   22.,  ..., -152., -172., -172.],\n",
       "         [  14.,   15.,   16.,  ...,  -81., -104., -104.]],\n",
       "\n",
       "        [[  -8.,   -5.,   -2.,  ...,   -6.,   -9.,   -9.],\n",
       "         [  -4.,   -4.,   -4.,  ...,  -18.,  -19.,  -19.],\n",
       "         [   6.,    7.,    8.,  ...,    9.,    9.,    9.],\n",
       "         ...,\n",
       "         [  -6.,   -7.,   -8.,  ...,  -17.,  -18.,  -18.],\n",
       "         [  -6.,   -7.,   -8.,  ...,  -19.,  -20.,  -20.],\n",
       "         [  -8.,   -8.,   -8.,  ...,  -21.,  -21.,  -21.]],\n",
       "\n",
       "        ...,\n",
       "\n",
       "        [[  -8.,   -8.,   -8.,  ...,   10.,    6.,    6.],\n",
       "         [ -10.,  -10.,  -10.,  ...,    9.,    2.,    2.],\n",
       "         [  -2.,   -2.,   -2.,  ...,   -2.,    0.,    0.],\n",
       "         ...,\n",
       "         [ -26.,  -25.,  -24.,  ...,    9.,   -1.,   -1.],\n",
       "         [ -26.,  -25.,  -24.,  ...,   11.,    2.,    2.],\n",
       "         [ -16.,  -15.,  -14.,  ...,    7.,    0.,    0.]],\n",
       "\n",
       "        [[ -32.,  -32.,  -32.,  ...,  -11.,  -11.,  -11.],\n",
       "         [ -18.,  -19.,  -20.,  ...,    2.,    1.,    1.],\n",
       "         [   8.,    9.,   10.,  ...,   18.,   18.,   18.],\n",
       "         ...,\n",
       "         [ -26.,  -26.,  -26.,  ...,  -19.,  -20.,  -20.],\n",
       "         [ -24.,  -24.,  -24.,  ...,  -24.,  -24.,  -24.],\n",
       "         [ -16.,  -17.,  -18.,  ...,  -19.,  -19.,  -19.]],\n",
       "\n",
       "        [[  -7.,   -4.,   -1.,  ...,  -16.,  -13.,  -13.],\n",
       "         [ -15.,  -13.,  -11.,  ...,  -12.,   -9.,   -9.],\n",
       "         [   7.,   11.,   14.,  ...,   -6.,   -5.,   -5.],\n",
       "         ...,\n",
       "         [ -20.,  -21.,  -21.,  ...,  -18.,  -19.,  -19.],\n",
       "         [ -23.,  -21.,  -20.,  ...,  -21.,  -21.,  -21.],\n",
       "         [ -17.,  -18.,  -18.,  ...,  -15.,  -15.,  -15.]]])"
      ]
     },
     "execution_count": 101,
     "metadata": {},
     "output_type": "execute_result"
    }
   ],
   "source": [
    "# split data into training and testing datasets\n",
    "# y not included for now\n",
    "train_x, test_x, _, _ = train_test_split(waveform_lead_rhythm['decoded_waveform'], waveform_lead_rhythm['decoded_waveform'], test_size = 0.1, random_state = 2021)\n",
    "train_x = torch.tensor(list(train_x)).float()\n",
    "train_x"
   ]
  },
  {
   "cell_type": "markdown",
   "metadata": {},
   "source": [
    "## Model 1 - Conv1D Encoder w/ Huggingface Decoder"
   ]
  },
  {
   "cell_type": "code",
   "execution_count": 102,
   "metadata": {},
   "outputs": [
    {
     "name": "stdout",
     "output_type": "stream",
     "text": [
      "Sequential(\n",
      "  (initial_norm): BatchNorm1d(8, eps=1e-05, momentum=0.1, affine=True, track_running_stats=True)\n",
      "  (conv_1): Conv1d(8, 8, kernel_size=(5,), stride=(1,), padding=(2,), groups=8)\n",
      "  (conv_2): Conv1d(8, 16, kernel_size=(5,), stride=(3,), padding=(2,), groups=8)\n",
      "  (activation_2): ELU(alpha=1.0)\n",
      "  (batch_norm_2): BatchNorm1d(16, eps=1e-05, momentum=0.1, affine=True, track_running_stats=True)\n",
      "  (conv_3): Conv1d(16, 32, kernel_size=(5,), stride=(3,), padding=(2,), groups=8)\n",
      "  (activation_3): ELU(alpha=1.0)\n",
      "  (batch_norm_3): BatchNorm1d(32, eps=1e-05, momentum=0.1, affine=True, track_running_stats=True)\n",
      "  (conv_4): Conv1d(32, 48, kernel_size=(5,), stride=(3,), padding=(2,), groups=8)\n",
      "  (activation_4): ELU(alpha=1.0)\n",
      "  (batch_norm_4): BatchNorm1d(48, eps=1e-05, momentum=0.1, affine=True, track_running_stats=True)\n",
      "  (conv_5): Conv1d(48, 64, kernel_size=(5,), stride=(3,), padding=(2,), groups=8)\n",
      "  (activation_5): ELU(alpha=1.0)\n",
      "  (batch_norm_5): BatchNorm1d(64, eps=1e-05, momentum=0.1, affine=True, track_running_stats=True)\n",
      "  (conv_6): Conv1d(64, 80, kernel_size=(5,), stride=(3,), padding=(2,), groups=8)\n",
      "  (activation_6): ELU(alpha=1.0)\n",
      "  (batch_norm_6): BatchNorm1d(80, eps=1e-05, momentum=0.1, affine=True, track_running_stats=True)\n",
      "  (final_conv): Conv1d(80, 8, kernel_size=(5,), stride=(1,), padding=(2,), groups=8)\n",
      "  (max_pool): global_max_pooling_1d()\n",
      ")\n"
     ]
    },
    {
     "data": {
      "text/plain": [
       "torch.Size([7, 8])"
      ]
     },
     "execution_count": 102,
     "metadata": {},
     "output_type": "execute_result"
    }
   ],
   "source": [
    "# HYPERPARAMETERS\n",
    "J = 10 # max number of filters per class\n",
    "LR = 1e-3\n",
    "\n",
    "# define global max pooling\n",
    "class global_max_pooling_1d(nn.Module):\n",
    "    def __init__(self):\n",
    "        super().__init__()\n",
    "    \n",
    "    def forward(self, x):\n",
    "        x, _ = torch.max(x, dim = 2)\n",
    "        return(x)\n",
    "\n",
    "# 1D grouped encoder model\n",
    "model = nn.Sequential()\n",
    "model.add_module('initial_norm', nn.BatchNorm1d(8))\n",
    "model.add_module('conv_1', nn.Conv1d(in_channels = 8, out_channels = 8, groups = 8, kernel_size = 5, padding = 2))\n",
    "for i in range(2, (J+2), 2):\n",
    "    if (i-2) == 0: \n",
    "        prev = 8\n",
    "    else:\n",
    "        prev = (i-2)*8\n",
    "    model.add_module('conv_{num}'.format(num = int(i / 2 + 1)), nn.Conv1d(in_channels = prev, out_channels = i*8, groups = 8, kernel_size = 5, padding = 2, stride = 3))\n",
    "    model.add_module('activation_{num}'.format(num = int(i / 2 + 1)), nn.ELU())\n",
    "    model.add_module('batch_norm_{num}'.format(num = int(i / 2 + 1)), nn.BatchNorm1d(i*8))\n",
    "    \n",
    "model.add_module('final_conv', nn.Conv1d(in_channels = J * 8, out_channels = 8, groups = 8, kernel_size = 5, padding = 2))\n",
    "model.add_module('max_pool', global_max_pooling_1d())\n",
    "\n",
    "# summarize model, verify output is of desired shape\n",
    "print(model)\n",
    "model(train_x).shape"
   ]
  },
  {
   "cell_type": "markdown",
   "metadata": {},
   "source": [
    "## Model 2 - LSTM Encoder w/ Huggingface Decoder"
   ]
  },
  {
   "cell_type": "code",
   "execution_count": null,
   "metadata": {},
   "outputs": [],
   "source": []
  },
  {
   "cell_type": "markdown",
   "metadata": {},
   "source": [
    "## Model 3 - Basic Transformer Architecture with Multi-Head Attention"
   ]
  },
  {
   "cell_type": "code",
   "execution_count": null,
   "metadata": {},
   "outputs": [],
   "source": []
  },
  {
   "cell_type": "markdown",
   "metadata": {},
   "source": [
    "## Model 4 - FNET Transformer Architecture"
   ]
  },
  {
   "cell_type": "code",
   "execution_count": null,
   "metadata": {},
   "outputs": [],
   "source": []
  },
  {
   "cell_type": "markdown",
   "metadata": {},
   "source": [
    "## Model 5 - FNET/Basic Mixup Architecture "
   ]
  },
  {
   "cell_type": "code",
   "execution_count": null,
   "metadata": {},
   "outputs": [],
   "source": []
  }
 ],
 "metadata": {
  "kernelspec": {
   "display_name": "Python 3",
   "language": "python",
   "name": "python3"
  },
  "language_info": {
   "codemirror_mode": {
    "name": "ipython",
    "version": 3
   },
   "file_extension": ".py",
   "mimetype": "text/x-python",
   "name": "python",
   "nbconvert_exporter": "python",
   "pygments_lexer": "ipython3",
   "version": "3.7.4"
  }
 },
 "nbformat": 4,
 "nbformat_minor": 4
}
